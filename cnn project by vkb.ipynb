{
 "cells": [
  {
   "cell_type": "markdown",
   "id": "f0732331",
   "metadata": {},
   "source": [
    "NumPy (numpy) is imported for numerical computing, \n",
    "while TensorFlow (tensorflow) is imported for building and training machine learning models in Python."
   ]
  },
  {
   "cell_type": "code",
   "execution_count": 1,
   "id": "e3f6849b",
   "metadata": {},
   "outputs": [
    {
     "name": "stdout",
     "output_type": "stream",
     "text": [
      "WARNING:tensorflow:From C:\\Users\\vaish\\anaconda3\\Lib\\site-packages\\keras\\src\\losses.py:2976: The name tf.losses.sparse_softmax_cross_entropy is deprecated. Please use tf.compat.v1.losses.sparse_softmax_cross_entropy instead.\n",
      "\n"
     ]
    }
   ],
   "source": [
    "import numpy as np\n",
    "import tensorflow as tf\n"
   ]
  },
  {
   "cell_type": "markdown",
   "id": "1f0b460a",
   "metadata": {},
   "source": [
    "This code snippet imports necessary modules from TensorFlow's Keras API for building convolutional neural networks (CNNs) for image classification tasks. Specifically, it imports ImageDataGenerator for data augmentation and preprocessing, Sequential for creating a linear stack of layers, and various layers such as Conv2D, MaxPool2D, Flatten, and Dense for building the CNN architecture. Additionally, it imports the os module for interacting with the operating system."
   ]
  },
  {
   "cell_type": "code",
   "execution_count": 2,
   "id": "38289808",
   "metadata": {},
   "outputs": [],
   "source": [
    "from tensorflow.keras.preprocessing.image import ImageDataGenerator\n",
    "from tensorflow.keras.models import Sequential\n",
    "from tensorflow.keras.layers import Conv2D,MaxPool2D,Flatten,Dense,BatchNormalization\n",
    "import os"
   ]
  },
  {
   "cell_type": "markdown",
   "id": "b6a1bfc7",
   "metadata": {},
   "source": [
    "The provided code assigns the directory path \"C:\\Users\\vaish\\OneDrive\\Desktop\\AI\\archive (7)\" to the variable path, which likely represents the location of a dataset or files on the local filesystem.\n",
    "\n",
    "\n",
    "\n",
    "\n"
   ]
  },
  {
   "cell_type": "code",
   "execution_count": 3,
   "id": "4545ba0d",
   "metadata": {},
   "outputs": [],
   "source": [
    "train=r\"C:\\Users\\vaish\\OneDrive\\Desktop\\AI\\archive (7)\\train\"\n",
    "testing=r\"C:\\Users\\vaish\\OneDrive\\Desktop\\AI\\archive (7)\\test\""
   ]
  },
  {
   "cell_type": "markdown",
   "id": "7ab36065",
   "metadata": {},
   "source": [
    "This code sets the variables img_width and img_height to the values 300, indicating the desired width and height for images. These variables are commonly used when working with image data, such as in image preprocessing or model input dimensions."
   ]
  },
  {
   "cell_type": "code",
   "execution_count": 4,
   "id": "7e0984f5",
   "metadata": {},
   "outputs": [],
   "source": [
    "img_width,img_height=300,300"
   ]
  },
  {
   "cell_type": "markdown",
   "id": "7692f31e",
   "metadata": {},
   "source": [
    "This line of code sets the batch size to 32, which determines the number of training examples processed in each iteration during model training."
   ]
  },
  {
   "cell_type": "code",
   "execution_count": 5,
   "id": "fec027f1",
   "metadata": {},
   "outputs": [],
   "source": [
    "batch_size=32"
   ]
  },
  {
   "cell_type": "markdown",
   "id": "72f816dd",
   "metadata": {},
   "source": [
    "This code initializes an ImageDataGenerator object data_gen, which is used for real-time data augmentation and preprocessing of image data. Various augmentation parameters are set, including rescaling pixel values, rotation range, width and height shift range, shear range, and horizontal flipping. These augmentations help increase the diversity of training data and improve the robustness of the model."
   ]
  },
  {
   "cell_type": "code",
   "execution_count": 6,
   "id": "efc233cf",
   "metadata": {},
   "outputs": [],
   "source": [
    "data_gen=ImageDataGenerator(rescale=1.0/255,\n",
    "                           rotation_range=20,\n",
    "                           width_shift_range=0.2,height_shift_range=0.2,\n",
    "                           shear_range=0.2,\n",
    "                           horizontal_flip=True)"
   ]
  },
  {
   "cell_type": "markdown",
   "id": "078b887d",
   "metadata": {},
   "source": [
    "This line of code creates a data generator generator using the ImageDataGenerator object data_gen previously defined. It generates batches of augmented data from the directory specified by the path variable. The flow_from_directory method is used to load images directly from the directory structure, organizing them into batches for model training."
   ]
  },
  {
   "cell_type": "code",
   "execution_count": 7,
   "id": "5212c889",
   "metadata": {},
   "outputs": [
    {
     "name": "stdout",
     "output_type": "stream",
     "text": [
      "Found 2687 images belonging to 3 classes.\n"
     ]
    }
   ],
   "source": [
    "generator=data_gen.flow_from_directory(train)"
   ]
  },
  {
   "cell_type": "markdown",
   "id": "4e6cbba0",
   "metadata": {},
   "source": [
    "This line of code initializes the training data generator x_train using the ImageDataGenerator object data_gen and the directory specified by path. It specifies the target size for resizing images to (img_width, img_height), sets the batch size to batch_size, and specifies the class mode as \"categorical\" indicating one-hot encoded labels for classification tasks."
   ]
  },
  {
   "cell_type": "code",
   "execution_count": 8,
   "id": "a5024668",
   "metadata": {},
   "outputs": [
    {
     "name": "stdout",
     "output_type": "stream",
     "text": [
      "Found 2687 images belonging to 3 classes.\n"
     ]
    }
   ],
   "source": [
    "x_train=data_gen.flow_from_directory(train,target_size=(img_width,img_height),\n",
    "                                      batch_size=batch_size,class_mode=\"categorical\")"
   ]
  },
  {
   "cell_type": "markdown",
   "id": "326f70e8",
   "metadata": {},
   "source": [
    "The code generator.classes retrieves the class indices associated with the images loaded by the data generator generator. These class indices represent the labels or categories of the images in the dataset."
   ]
  },
  {
   "cell_type": "code",
   "execution_count": 9,
   "id": "a041d707",
   "metadata": {},
   "outputs": [
    {
     "data": {
      "text/plain": [
       "array([0, 0, 0, ..., 2, 2, 2])"
      ]
     },
     "execution_count": 9,
     "metadata": {},
     "output_type": "execute_result"
    }
   ],
   "source": [
    "generator.classes"
   ]
  },
  {
   "cell_type": "markdown",
   "id": "c64368f3",
   "metadata": {},
   "source": [
    "This line of code creates a data generator test using the ImageDataGenerator object data_gen, loading images from the directory specified by r\"C:\\Users\\vaish\\OneDrive\\Desktop\\AI\\archive (7)\". The generator is set up to process images for testing purposes.\n"
   ]
  },
  {
   "cell_type": "code",
   "execution_count": 10,
   "id": "9f1c6a3c",
   "metadata": {},
   "outputs": [
    {
     "name": "stdout",
     "output_type": "stream",
     "text": [
      "Found 30 images belonging to 3 classes.\n"
     ]
    }
   ],
   "source": [
    "test=data_gen.flow_from_directory(r\"C:\\Users\\vaish\\OneDrive\\Desktop\\AI\\archive (7)\\test\")"
   ]
  },
  {
   "cell_type": "markdown",
   "id": "8289ba81",
   "metadata": {},
   "source": [
    "The code test.labels retrieves the labels associated with the images loaded by the data generator test. These labels represent the class indices or categories of the images in the dataset."
   ]
  },
  {
   "cell_type": "code",
   "execution_count": 11,
   "id": "6e0364eb",
   "metadata": {},
   "outputs": [
    {
     "data": {
      "text/plain": [
       "array([0, 0, 0, 0, 0, 0, 0, 0, 0, 0, 1, 1, 1, 1, 1, 1, 1, 1, 1, 1, 2, 2,\n",
       "       2, 2, 2, 2, 2, 2, 2, 2])"
      ]
     },
     "execution_count": 11,
     "metadata": {},
     "output_type": "execute_result"
    }
   ],
   "source": [
    "test.labels"
   ]
  },
  {
   "cell_type": "markdown",
   "id": "c034794e",
   "metadata": {},
   "source": [
    "Apologies for the confusion earlier. The code generator.classes retrieves the class indices associated with the images loaded by the data generator generator. These class indices represent the labels or categories of the images in the dataset."
   ]
  },
  {
   "cell_type": "code",
   "execution_count": 12,
   "id": "0173ebe6",
   "metadata": {},
   "outputs": [
    {
     "data": {
      "text/plain": [
       "array([0, 0, 0, ..., 2, 2, 2])"
      ]
     },
     "execution_count": 12,
     "metadata": {},
     "output_type": "execute_result"
    }
   ],
   "source": [
    "generator.classes"
   ]
  },
  {
   "cell_type": "markdown",
   "id": "24175fca",
   "metadata": {},
   "source": [
    "This line of code initializes a new ImageDataGenerator object test_dataset for preprocessing and rescaling images from the test dataset. The rescale parameter is set to 1.0/255, which means it scales the pixel values of the images to be in the range [0,1]."
   ]
  },
  {
   "cell_type": "code",
   "execution_count": 13,
   "id": "7936d1e6",
   "metadata": {},
   "outputs": [],
   "source": [
    "test_dataset=ImageDataGenerator(rescale=1.0/255)"
   ]
  },
  {
   "cell_type": "markdown",
   "id": "909b9a97",
   "metadata": {},
   "source": [
    "This line of code creates a data generator x_test using the ImageDataGenerator object test_dataset, loading images from the directory specified by path for the purpose of testing. It specifies the target size for resizing images to (img_width, img_height), sets the batch size to batch_size, and specifies the class mode as \"categorical\" indicating one-hot encoded labels for classification tasks."
   ]
  },
  {
   "cell_type": "code",
   "execution_count": 14,
   "id": "e17366c8",
   "metadata": {},
   "outputs": [
    {
     "name": "stdout",
     "output_type": "stream",
     "text": [
      "Found 30 images belonging to 3 classes.\n"
     ]
    }
   ],
   "source": [
    "x_test=test_dataset.flow_from_directory(testing,target_size=(img_width,img_height),\n",
    "                                      batch_size=batch_size,class_mode=\"categorical\")"
   ]
  },
  {
   "cell_type": "markdown",
   "id": "acf79db5",
   "metadata": {},
   "source": [
    "This code defines a convolutional neural network (CNN) model using TensorFlow's Keras API. It's a sequential model consisting of several layers:\n",
    "\n",
    "Conv2D layers with 32, 64, 128, and 128 filters respectively, each with a kernel size of (3,3) and ReLU activation function.\n",
    "MaxPool2D layers with a pool size of (2,2) for downsampling.\n",
    "Flatten layer to flatten the output from the convolutional layers into a one-dimensional array.\n",
    "Dense layers with 512, 256, and 3 neurons respectively, with ReLU activation for the hidden layers and softmax activation for the output layer (since it's a classification task with three classes).\n",
    "The input_shape parameter of the first Conv2D layer is set to (img_width, img_height, 3), indicating the input shape of the images (width, height, and number of channels, which is 3 for RGB images)."
   ]
  },
  {
   "cell_type": "code",
   "execution_count": 15,
   "id": "3e3f4f20",
   "metadata": {},
   "outputs": [
    {
     "name": "stdout",
     "output_type": "stream",
     "text": [
      "WARNING:tensorflow:From C:\\Users\\vaish\\anaconda3\\Lib\\site-packages\\keras\\src\\backend.py:873: The name tf.get_default_graph is deprecated. Please use tf.compat.v1.get_default_graph instead.\n",
      "\n",
      "WARNING:tensorflow:From C:\\Users\\vaish\\anaconda3\\Lib\\site-packages\\keras\\src\\layers\\pooling\\max_pooling2d.py:161: The name tf.nn.max_pool is deprecated. Please use tf.nn.max_pool2d instead.\n",
      "\n"
     ]
    }
   ],
   "source": [
    "model=Sequential([\n",
    "    Conv2D(32,(3,3),activation=\"relu\",\n",
    "    input_shape=(img_width,img_height,3)),\n",
    "    MaxPool2D((2,2)),\n",
    "    BatchNormalization(),\n",
    "    Conv2D(64,(3,3),activation=\"relu\"),\n",
    "    MaxPool2D((2,2)),\n",
    "    BatchNormalization(),\n",
    "    Conv2D(128,(3,3),activation=\"relu\"),\n",
    "    MaxPool2D((2,2)),\n",
    "    BatchNormalization(),\n",
    "    Conv2D(128,(3,3),activation=\"relu\"),\n",
    "    MaxPool2D((2,2)),\n",
    "    BatchNormalization(),\n",
    "    Flatten(),\n",
    "    Dense(512,activation=\"relu\"),\n",
    "    Dense(256,activation=\"relu\"),\n",
    "    Dense(3,activation=\"softmax\")\n",
    "])"
   ]
  },
  {
   "cell_type": "markdown",
   "id": "3f2a73a8",
   "metadata": {},
   "source": [
    "This line of code compiles the previously defined Keras model. The parameters used are:\n",
    "\n",
    "optimizer=\"adam\": This specifies the Adam optimization algorithm, which is a popular choice for training neural networks.\n",
    "loss=\"categorical_crossentropy\": This sets the loss function to categorical crossentropy, commonly used for multi-class classification problems.\n",
    "metrics=[\"accuracy\"]: During training, the model will monitor and display accuracy as a metric.\n",
    "With this compilation step, the model is ready to be trained using the specified optimizer, loss function, and metrics."
   ]
  },
  {
   "cell_type": "code",
   "execution_count": 16,
   "id": "d1bee55c",
   "metadata": {},
   "outputs": [
    {
     "name": "stdout",
     "output_type": "stream",
     "text": [
      "WARNING:tensorflow:From C:\\Users\\vaish\\anaconda3\\Lib\\site-packages\\keras\\src\\optimizers\\__init__.py:309: The name tf.train.Optimizer is deprecated. Please use tf.compat.v1.train.Optimizer instead.\n",
      "\n"
     ]
    }
   ],
   "source": [
    "model.compile(optimizer=\"adam\",loss=\"categorical_crossentropy\",metrics=[\"accuracy\"])"
   ]
  },
  {
   "cell_type": "markdown",
   "id": "147baeb2",
   "metadata": {},
   "source": [
    "This line of code trains the compiled Keras model (model) using the training data generator x_train. The training will run for 50 epochs, and the validation data generator x_test is provided for evaluating the model's performance on a separate dataset during training.\n",
    "\n",
    "The training progress and evaluation metrics for each epoch will be stored in the history object, allowing you to visualize and analyze the training process later."
   ]
  },
  {
   "cell_type": "code",
   "execution_count": null,
   "id": "2119b505",
   "metadata": {},
   "outputs": [
    {
     "name": "stdout",
     "output_type": "stream",
     "text": [
      "Epoch 1/10\n",
      "84/84 [==============================] - 517s 6s/step - loss: 0.2084 - accuracy: 0.9341 - val_loss: 0.6475 - val_accuracy: 0.8667\n",
      "Epoch 2/10\n",
      "72/84 [========================>.....] - ETA: 1:14 - loss: 0.2227 - accuracy: 0.9201"
     ]
    }
   ],
   "source": [
    "history=model.fit(x_train,epochs=10,validation_data=x_test)"
   ]
  },
  {
   "cell_type": "markdown",
   "id": "ba08d7fb",
   "metadata": {},
   "source": [
    "This line of code imports the matplotlib.pyplot module, which is a plotting library for Python. It provides a MATLAB-like interface for creating a variety of plots, including line plots, scatter plots, histograms, and more."
   ]
  },
  {
   "cell_type": "code",
   "execution_count": 1,
   "id": "62526928",
   "metadata": {},
   "outputs": [],
   "source": [
    "import matplotlib.pyplot as plt"
   ]
  },
  {
   "cell_type": "markdown",
   "id": "dd92d90f",
   "metadata": {},
   "source": [
    "This code plots the training and validation accuracy over epochs using matplotlib.pyplot. The training accuracy is accessed from history.history[\"accuracy\"], and the validation accuracy is accessed from history.history[\"val_accuracy\"]. The title, x-axis label, y-axis label, and legend are added for clarity, and finally, plt.show() displays the plot."
   ]
  },
  {
   "cell_type": "code",
   "execution_count": 21,
   "id": "beab34f7",
   "metadata": {},
   "outputs": [
    {
     "data": {
      "image/png": "[encoded data removed]",
      "text/plain": [
       "<Figure size 640x480 with 1 Axes>"
      ]
     },
     "metadata": {},
     "output_type": "display_data"
    }
   ],
   "source": [
    "plt.plot(history.history[\"accuracy\"])\n",
    "plt.plot(history.history[\"val_accuracy\"])\n",
    "plt.title(\"Model Accuracy\")\n",
    "plt.xlabel(\"Epochs\")\n",
    "plt.ylabel(\"Accuracy\")\n",
    "plt.legend([\"Train\",\"Validation\"])\n",
    "plt.show()"
   ]
  },
  {
   "cell_type": "markdown",
   "id": "f5bea776",
   "metadata": {},
   "source": [
    "This code plots the training and validation loss over epochs using matplotlib.pyplot. The training loss is accessed from history.history[\"loss\"], and the validation loss is accessed from history.history[\"val_loss\"]. The title, x-axis label, y-axis label, and legend are added for clarity, and finally, plt.show() displays the plot"
   ]
  },
  {
   "cell_type": "code",
   "execution_count": 22,
   "id": "946416aa",
   "metadata": {},
   "outputs": [
    {
     "data": {
      "image/png": "[encoded data removed]",
      "text/plain": [
       "<Figure size 640x480 with 1 Axes>"
      ]
     },
     "metadata": {},
     "output_type": "display_data"
    }
   ],
   "source": [
    "plt.plot(history.history[\"loss\"])\n",
    "plt.plot(history.history[\"val_loss\"])\n",
    "plt.title(\"Model Loss\")\n",
    "plt.xlabel(\"Epochs\")\n",
    "plt.ylabel(\"Loss\")\n",
    "plt.legend([\"Train\",\"Validation\"])\n",
    "plt.show()"
   ]
  },
  {
   "cell_type": "markdown",
   "id": "3cad960e",
   "metadata": {},
   "source": [
    "This line of code assigns the class labels to the variable class_labels by accessing the class indices from the training data generator x_train. The class_indices attribute provides a dictionary mapping class names to their respective numerical indices."
   ]
  },
  {
   "cell_type": "code",
   "execution_count": 23,
   "id": "428f2c05",
   "metadata": {},
   "outputs": [],
   "source": [
    "class_labels=x_train.class_indices"
   ]
  },
  {
   "cell_type": "markdown",
   "id": "97d98a5b",
   "metadata": {},
   "source": [
    "This code creates a dictionary class_names where the keys are the numerical indices of the classes, and the values are the corresponding class names. It swaps the keys and values from the class_labels dictionary. Finally, it prints the class names. This mapping can be useful for interpreting model predictions."
   ]
  },
  {
   "cell_type": "code",
   "execution_count": 24,
   "id": "b61c510c",
   "metadata": {},
   "outputs": [
    {
     "name": "stdout",
     "output_type": "stream",
     "text": [
      "Class Names: {0: 'paper', 1: 'rock', 2: 'scissors'}\n"
     ]
    }
   ],
   "source": [
    "class_names={value:key for key,value in class_labels.items()}\n",
    "print(\"Class Names:\",class_names)"
   ]
  },
  {
   "cell_type": "markdown",
   "id": "b6e9c73f",
   "metadata": {},
   "source": [
    "This line of code imports the image module from TensorFlow's Keras API. This module provides utilities for loading and preprocessing images, which can be useful for tasks such as image augmentation, loading images for prediction, and more."
   ]
  },
  {
   "cell_type": "code",
   "execution_count": 25,
   "id": "ab4239c8",
   "metadata": {},
   "outputs": [],
   "source": [
    "from tensorflow.keras.preprocessing import image "
   ]
  },
  {
   "cell_type": "markdown",
   "id": "8751f2e0",
   "metadata": {},
   "source": [
    "This line of code assigns the file path \"C:\\Users\\vaish\\OneDrive\\Desktop\\AI\\archive (7)\\paper\\paper_34.png\" to the variable img_path, representing the location of an image file on the local filesystem."
   ]
  },
  {
   "cell_type": "code",
   "execution_count": 26,
   "id": "4bd23cdc",
   "metadata": {},
   "outputs": [],
   "source": [
    "img_path=r\"C:\\Users\\vaish\\OneDrive\\Desktop\\AI\\archive (7)\\test\\rock\\rock_901.png\""
   ]
  },
  {
   "cell_type": "markdown",
   "id": "aa62961c",
   "metadata": {},
   "source": [
    "This line of code loads the image located at the file path specified by img_path using the load_img function from the image module. It also resizes the image to the target size (img_width, img_height) specified earlier."
   ]
  },
  {
   "cell_type": "code",
   "execution_count": 27,
   "id": "8dbff3bf",
   "metadata": {},
   "outputs": [],
   "source": [
    "img=image.load_img(img_path,target_size=(img_width,img_height))"
   ]
  },
  {
   "cell_type": "markdown",
   "id": "6679ba10",
   "metadata": {},
   "source": [
    "This line of code converts the image img to a NumPy array representation using the img_to_array function from the image module. It converts the image from its current PIL (Python Imaging Library) format to a NumPy array, making it suitable for further processing with TensorFlow or other libraries."
   ]
  },
  {
   "cell_type": "code",
   "execution_count": 28,
   "id": "75e4838c",
   "metadata": {},
   "outputs": [],
   "source": [
    "img_arr=image.img_to_array(img)"
   ]
  },
  {
   "cell_type": "markdown",
   "id": "f40a9bd9",
   "metadata": {},
   "source": [
    "This line of code expands the dimensions of the NumPy array img_arr along axis 0, effectively adding a batch dimension to the array, commonly used for feeding data into models."
   ]
  },
  {
   "cell_type": "code",
   "execution_count": 29,
   "id": "506861a7",
   "metadata": {},
   "outputs": [],
   "source": [
    "img_arr=np.expand_dims(img_arr,axis=0)"
   ]
  },
  {
   "cell_type": "markdown",
   "id": "0bde2059",
   "metadata": {},
   "source": [
    "This line of code normalizes the pixel values of the image array img_arr by dividing each pixel value by 255.0, ensuring that the pixel values are within the range of [0,1], which is a common preprocessing step for neural networks."
   ]
  },
  {
   "cell_type": "code",
   "execution_count": 30,
   "id": "09d9348a",
   "metadata": {},
   "outputs": [],
   "source": [
    "img_arr=img_arr/255.0"
   ]
  },
  {
   "cell_type": "markdown",
   "id": "1872c556",
   "metadata": {},
   "source": [
    "This line of code uses the trained model model to make predictions on the input image array img_arr, resulting in a prediction array pred containing the model's predicted probabilities for each class."
   ]
  },
  {
   "cell_type": "code",
   "execution_count": 31,
   "id": "e0c9c5f7",
   "metadata": {},
   "outputs": [
    {
     "name": "stdout",
     "output_type": "stream",
     "text": [
      "1/1 [==============================] - 0s 415ms/step\n"
     ]
    }
   ],
   "source": [
    "pred=model.predict(img_arr)"
   ]
  },
  {
   "cell_type": "markdown",
   "id": "ca0bc469",
   "metadata": {},
   "source": [
    "This line of code computes the index of the class with the highest predicted probability from the prediction array pred, assigning it to the variable pred_class."
   ]
  },
  {
   "cell_type": "code",
   "execution_count": 32,
   "id": "ab049349",
   "metadata": {},
   "outputs": [],
   "source": [
    "pred_class=np.argmax(pred)"
   ]
  },
  {
   "cell_type": "markdown",
   "id": "12991e02",
   "metadata": {},
   "source": [
    "This line of code retrieves the class name corresponding to the predicted class index pred_class from the class_names dictionary, providing the human-readable label for the predicted class."
   ]
  },
  {
   "cell_type": "code",
   "execution_count": 33,
   "id": "4660cd1f",
   "metadata": {},
   "outputs": [
    {
     "data": {
      "text/plain": [
       "'paper'"
      ]
     },
     "execution_count": 33,
     "metadata": {},
     "output_type": "execute_result"
    }
   ],
   "source": [
    "class_names[pred_class]"
   ]
  },
  {
   "cell_type": "code",
   "execution_count": null,
   "id": "9418b3b3",
   "metadata": {},
   "outputs": [],
   "source": []
  }
 ],
 "metadata": {
  "kernelspec": {
   "display_name": "Python 3 (ipykernel)",
   "language": "python",
   "name": "python3"
  },
  "language_info": {
   "codemirror_mode": {
    "name": "ipython",
    "version": 3
   },
   "file_extension": ".py",
   "mimetype": "text/x-python",
   "name": "python",
   "nbconvert_exporter": "python",
   "pygments_lexer": "ipython3",
   "version": "3.11.3"
  }
 },
 "nbformat": 4,
 "nbformat_minor": 5
}
